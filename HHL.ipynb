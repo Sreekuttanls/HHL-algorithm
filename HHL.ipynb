{
  "nbformat": 4,
  "nbformat_minor": 0,
  "metadata": {
    "colab": {
      "name": "Untitled7.ipynb",
      "provenance": [],
      "authorship_tag": "ABX9TyPvzXFGMYr1uJ7aGjhS4mFW",
      "include_colab_link": true
    },
    "kernelspec": {
      "name": "python3",
      "display_name": "Python 3"
    },
    "language_info": {
      "name": "python"
    }
  },
  "cells": [
    {
      "cell_type": "markdown",
      "metadata": {
        "id": "view-in-github",
        "colab_type": "text"
      },
      "source": [
        "<a href=\"https://colab.research.google.com/github/Sreekuttanls/HHL-algorithm/blob/main/HHL.ipynb\" target=\"_parent\"><img src=\"https://colab.research.google.com/assets/colab-badge.svg\" alt=\"Open In Colab\"/></a>"
      ]
    },
    {
      "cell_type": "code",
      "metadata": {
        "colab": {
          "base_uri": "https://localhost:8080/"
        },
        "id": "6gHvM6_hw4Ea",
        "outputId": "c543c928-0b7c-483b-89fd-ea87ddbc483b"
      },
      "source": [
        "pip install qutip"
      ],
      "execution_count": 1,
      "outputs": [
        {
          "output_type": "stream",
          "name": "stdout",
          "text": [
            "Collecting qutip\n",
            "  Downloading qutip-4.6.2-cp37-cp37m-manylinux2010_x86_64.whl (14.6 MB)\n",
            "\u001b[K     |████████████████████████████████| 14.6 MB 4.6 MB/s \n",
            "\u001b[?25hRequirement already satisfied: scipy>=1.0 in /usr/local/lib/python3.7/dist-packages (from qutip) (1.4.1)\n",
            "Requirement already satisfied: numpy>=1.16.6 in /usr/local/lib/python3.7/dist-packages (from qutip) (1.19.5)\n",
            "Requirement already satisfied: packaging in /usr/local/lib/python3.7/dist-packages (from qutip) (21.3)\n",
            "Requirement already satisfied: pyparsing!=3.0.5,>=2.0.2 in /usr/local/lib/python3.7/dist-packages (from packaging->qutip) (3.0.6)\n",
            "Installing collected packages: qutip\n",
            "Successfully installed qutip-4.6.2\n"
          ]
        }
      ]
    },
    {
      "cell_type": "code",
      "metadata": {
        "colab": {
          "base_uri": "https://localhost:8080/"
        },
        "id": "FLhQBo2PwvI3",
        "outputId": "f3d49c5a-653a-45c7-9c78-2c159f7405d0"
      },
      "source": [
        "\n",
        "from qutip import *\n",
        "from qutip.qip.circuit import QubitCircuit, Gate\n",
        "from qutip.qip.operations import gate_sequence_product\n",
        "import math\n",
        "import numpy as n\n",
        "\n",
        "s=basis(2,0)\n",
        "j2=basis(2,0)\n",
        "j1=basis(2,0)\n",
        "b=2*basis(2,0)+3*basis(2,1)\n",
        "i=tensor(s,j1,j2,b)\n",
        "#creating custom gates\n",
        "def cu0():\n",
        "    mat=n.zeros((4,4),dtype=n.complex)\n",
        "    mat[0,0]=mat[1,1]=1\n",
        "    mat[2,2]=mat[3,3]=-1\n",
        "    return Qobj(mat, dims=[[2,2],[2,2]])\n",
        "def cu1():\n",
        "    mat=n.zeros((4,4),dtype=n.complex)\n",
        "    mat[0,0]=mat[1,1]=1\n",
        "    mat[2,2]=mat[3,3]=1\n",
        "    return Qobj(mat, dims=[[2,2],[2,2]])\n",
        "def pgate():\n",
        "    mat=n.zeros((4,4),dtype=n.complex)\n",
        "    mat[0,0]=mat[1,1]=mat[2, 2]=1\n",
        "    mat[3,3]=-1.j\n",
        "    return Qobj(mat, dims=[[2,2],[2,2]])\n",
        "def pgat():\n",
        "    mat=n.zeros((4,4),dtype=n.complex)\n",
        "    mat[0,0]=mat[1,1]=mat[2, 2]=1\n",
        "    mat[3,3]=1.j\n",
        "    return Qobj(mat, dims=[[2,2],[2,2]])\n",
        "q=QubitCircuit(4)\n",
        "#initial step\n",
        "q.add_gate(\"SNOT\",1)\n",
        "q.add_gate(\"SNOT\",2)\n",
        "q.user_gates = {\"CU0\": cu0,\"CU1\": cu1,\"S\":pgate,\"S1\":pgat}\n",
        "#phase estimation controlled u\n",
        "q.add_gate(\"CU0\",[1,3])\n",
        "q.add_gate(\"CU1\",[2,3])\n",
        "#qft\n",
        "q.add_gate(\"SNOT\",2)\n",
        "q.add_gate(\"S\", [2])\n",
        "q.add_gate(\"SNOT\",1)\n",
        "#RY rotations\n",
        "q.add_gate(\"CRY\",0,1, n.pi/8)\n",
        "q.add_gate(\"CRY\",0,2, n.pi/4)\n",
        "#Uncomputing\n",
        "#QFT\n",
        "q.add_gate(\"SNOT\",1)\n",
        "q.add_gate(\"S1\",[2,1])\n",
        "q.add_gate(\"SNOT\",2)\n",
        "#dephasing\n",
        "q.add_gate(\"CU1\",[2,3])\n",
        "q.add_gate(\"CU0\",[1,3])\n",
        "q.add_gate(\"SNOT\",1)\n",
        "q.add_gate(\"SNOT\",2)\n",
        "\n",
        "e=q.propagators()\n",
        "u=gate_sequence_product(e)\n",
        "print(u*i)\n"
      ],
      "execution_count": 3,
      "outputs": [
        {
          "output_type": "stream",
          "name": "stdout",
          "text": [
            "Quantum object: dims = [[2, 2, 2, 2], [1, 1, 1, 1]], shape = (16, 1), type = ket\n",
            "Qobj data =\n",
            "[[1.96157056]\n",
            " [2.94235584]\n",
            " [0.        ]\n",
            " [0.        ]\n",
            " [0.        ]\n",
            " [0.        ]\n",
            " [0.        ]\n",
            " [0.        ]\n",
            " [0.39018064]\n",
            " [0.58527097]\n",
            " [0.        ]\n",
            " [0.        ]\n",
            " [0.        ]\n",
            " [0.        ]\n",
            " [0.        ]\n",
            " [0.        ]]\n"
          ]
        }
      ]
    },
    {
      "cell_type": "code",
      "metadata": {
        "id": "O1wun209wwZP"
      },
      "source": [
        ""
      ],
      "execution_count": null,
      "outputs": []
    }
  ]
}